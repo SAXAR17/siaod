{
 "cells": [
  {
   "cell_type": "markdown",
   "metadata": {},
   "source": [
    "# Задание 1\n",
    "# Бинарный поиск"
   ]
  },
  {
   "cell_type": "code",
   "execution_count": 1,
   "metadata": {},
   "outputs": [
    {
     "name": "stdout",
     "output_type": "stream",
     "text": [
      "Индекс элемента  6\n"
     ]
    }
   ],
   "source": [
    "array = [1, 2, 3, 4, 5, 6, 7, 8, 9, 10]\n",
    "x = 7\n",
    "\n",
    "def binarySearch (array, l, r, x):\n",
    "    if r >= l:\n",
    "  \n",
    "        mid = l + (r - l) // 2\n",
    "\n",
    "        if array[mid] == x:\n",
    "            return mid\n",
    "\n",
    "        elif array[mid] > x:\n",
    "            return binarySearch(array, l, mid-1, x)\n",
    "\n",
    "        else:\n",
    "            return binarySearch(array, mid + 1, r, x)\n",
    "  \n",
    "    else:\n",
    "\n",
    "        return -1\n",
    "\n",
    "result = binarySearch(array, 0, len(array)-1, x)\n",
    "  \n",
    "if result != -1:\n",
    "    print (\"Индекс элемента % d\" % result)\n",
    "else:\n",
    "    print (\"Нету такого элемента\")"
   ]
  },
  {
   "cell_type": "markdown",
   "metadata": {},
   "source": [
    "# Бинарное дерево"
   ]
  },
  {
   "cell_type": "code",
   "execution_count": 2,
   "metadata": {},
   "outputs": [
    {
     "name": "stdout",
     "output_type": "stream",
     "text": [
      "Найдено \n",
      "None\n"
     ]
    }
   ],
   "source": [
    "class Node:\n",
    "\n",
    "    def __init__(self, data):\n",
    "\n",
    "        self.left = None\n",
    "        self.right = None\n",
    "        self.data = data\n",
    "\n",
    "#Метод создания нашего дерева\n",
    "    def insert(self, data):\n",
    "\n",
    "        if self.data:\n",
    "            if data < self.data:\n",
    "                if self.left is None:\n",
    "                    self.left = Node(data)\n",
    "                else:\n",
    "                    self.left.insert(data)\n",
    "            elif data > self.data:\n",
    "                if self.right is None:\n",
    "                    self.right = Node(data)\n",
    "                else:\n",
    "                    self.right.insert(data)\n",
    "        else:\n",
    "            self.data = data\n",
    "            \n",
    "\n",
    "    def findval(self, lkpval):\n",
    "        if lkpval < self.data:\n",
    "            if self.left is None:\n",
    "                return \"Не найдено\"\n",
    "            return self.left.findval(lkpval)\n",
    "        elif lkpval > self.data:\n",
    "            if self.right is None:\n",
    "                return \"Не найдено\"\n",
    "            return self.right.findval(lkpval)\n",
    "        else:\n",
    "            print('Найдено ')\n",
    "\n",
    "\n",
    "x = 7\n",
    "#создание дерева\n",
    "root = Node(1)\n",
    "root.insert(2)\n",
    "root.insert(3)\n",
    "root.insert(4)\n",
    "root.insert(5)\n",
    "root.insert(6)\n",
    "root.insert(7)\n",
    "root.insert(8)\n",
    "root.insert(9)\n",
    "print(root.findval(x))"
   ]
  },
  {
   "cell_type": "markdown",
   "metadata": {},
   "source": [
    "# Фибоначчи"
   ]
  },
  {
   "cell_type": "code",
   "execution_count": 3,
   "metadata": {},
   "outputs": [
    {
     "name": "stdout",
     "output_type": "stream",
     "text": [
      "Индекс  7\n"
     ]
    }
   ],
   "source": [
    "def FibonacciSearch(lys, val):\n",
    "    \n",
    "    # Инициализируем числа Фибоначчи\n",
    "    fibM_minus_2 = 0\n",
    "    fibM_minus_1 = 1\n",
    "    fibM = fibM_minus_1 + fibM_minus_2\n",
    "    \n",
    "    # fibM будет хранить самые маленькие\n",
    "    # Число Фибоначчи больше или равно n\n",
    "    while (fibM < len(lys)):\n",
    "        fibM_minus_2 = fibM_minus_1\n",
    "        fibM_minus_1 = fibM\n",
    "        fibM = fibM_minus_1 + fibM_minus_2\n",
    "    index = -1;# Отмечает удаленный диапазон спереди\n",
    "    \n",
    "    # пока есть элементы, которые нужно проверить.\n",
    "    # Обратите внимание, что мы сравниваем arr [fibM_minus_2] с x.\n",
    "    # Когда fibM становится 1, fibM_minus_2 становится 0\n",
    "    while (fibM > 1):\n",
    "        \n",
    "        # Проверяем, является ли fibMm2 допустимым местоположением\n",
    "        i = min(index + fibM_minus_2, (len(lys)-1))\n",
    "        \n",
    "        # Если x больше значения в\n",
    "        # index fibMm2, вырезать подмассив\n",
    "        # от смещения до i\n",
    "        if (lys[i] < val):\n",
    "            fibM = fibM_minus_1\n",
    "            fibM_minus_1 = fibM_minus_2\n",
    "            fibM_minus_2 = fibM - fibM_minus_1\n",
    "            index = i\n",
    "            \n",
    "        # Если x меньше значения в\n",
    "        # index fibMm2, вырезать подмассив\n",
    "        # после i + 1\n",
    "        elif (lys[i] > val):\n",
    "            fibM = fibM_minus_2\n",
    "            fibM_minus_1 = fibM_minus_1 - fibM_minus_2\n",
    "            fibM_minus_2 = fibM - fibM_minus_1\n",
    "        #Обнаружен элемент. индекс возврата\n",
    "        else :\n",
    "            return i+1\n",
    "    \n",
    "    # сравнение последнего элемента с x * /\n",
    "    if(fibM_minus_1 and index < (len(lys)-1) and lys[index+1] == val):\n",
    "        return index+1;\n",
    "    # элемент не найден. возврат -1\n",
    "    return \"отсутсвует\"\n",
    "print(\"Индекс \", FibonacciSearch(array, x))\n"
   ]
  },
  {
   "cell_type": "markdown",
   "metadata": {},
   "source": [
    "# Интерполяционный поиск"
   ]
  },
  {
   "cell_type": "code",
   "execution_count": 4,
   "metadata": {},
   "outputs": [
    {
     "name": "stdout",
     "output_type": "stream",
     "text": [
      "Индекс  6\n"
     ]
    }
   ],
   "source": [
    "def InterpolationSearch(lys, val):\n",
    "    low = 0\n",
    "    high = (len(lys) - 1)\n",
    "    while low <= high and val >= lys[low] and val <= lys[high]:\n",
    "        index = low + int(((float(high - low) / ( lys[high] - lys[low])) * ( val - lys[low])))\n",
    "        if lys[index] == val:\n",
    "            return index\n",
    "        if lys[index] < val:\n",
    "            low = index + 1;\n",
    "        else:\n",
    "            high = index - 1;\n",
    "    return \"отсутсвует\"\n",
    "\n",
    "print(\"Индекс \", InterpolationSearch(array, x))"
   ]
  },
  {
   "cell_type": "markdown",
   "metadata": {},
   "source": [
    "# Задание 2"
   ]
  },
  {
   "cell_type": "code",
   "execution_count": 5,
   "metadata": {},
   "outputs": [
    {
     "name": "stdout",
     "output_type": "stream",
     "text": [
      "Хеш-функция для 1 это 1\n",
      "Хеш-функция для 2 это 2\n",
      "Хеш-функция для 3 это 3\n",
      "Хеш-функция для 4 это 4\n",
      "Хеш-функция для 5 это 5\n",
      "Хеш-функция для 6 это 6\n",
      "Хеш-функция для 7 это 7\n",
      "Хеш-функция для 8 это 8\n",
      "Хеш-функция для 9 это 9\n",
      "Хеш-функция для 10 это 0\n",
      "{0: 10, 1: 1, 2: 2, 3: 3, 4: 4, 5: 5, 6: 6, 7: 7, 8: 8, 9: 9}\n"
     ]
    }
   ],
   "source": [
    "def hash(item_list, table_size):\n",
    "    hash_table = dict([(i,None) for i,x in enumerate(range(table_size))])\n",
    "    for item in item_list:\n",
    "        i = item % table_size\n",
    "        print(\"Хеш-функция для %s это %s\" % (item, i))\n",
    "        hash_table[i] = item\n",
    "    \n",
    "    return hash_table\n",
    "\n",
    "hash_table = hash(array, 10)\n",
    "print(hash_table)"
   ]
  },
  {
   "cell_type": "markdown",
   "metadata": {},
   "source": [
    "# Рехеширование"
   ]
  },
  {
   "cell_type": "code",
   "execution_count": 6,
   "metadata": {},
   "outputs": [
    {
     "name": "stdout",
     "output_type": "stream",
     "text": [
      "1 hashed == 1 \n",
      "\n",
      "2 hashed == 2 \n",
      "\n",
      "3 hashed == 3 \n",
      "\n",
      "4 hashed == 4 \n",
      "\n",
      "5 hashed == 5 \n",
      "\n",
      "6 hashed == 6 \n",
      "\n",
      "7 hashed == 7 \n",
      "\n",
      "8 hashed == 8 \n",
      "\n",
      "9 hashed == 9 \n",
      "\n",
      "10 hashed == 0 \n",
      "\n",
      "{0: 10, 1: 1, 2: 2, 3: 3, 4: 4, 5: 5, 6: 6, 7: 7, 8: 8, 9: 9}\n"
     ]
    }
   ],
   "source": [
    "def rehash(oldhash, table_size):\n",
    "    return (oldhash+1) % table_size\n",
    "\n",
    "def lp_hash(item_list, table_size):\n",
    "    \n",
    "    lp_hash_table = dict([(i,None) for i,x in enumerate(range(table_size))])\n",
    "\n",
    "    for item in item_list:\n",
    "        i = item % table_size\n",
    "        print(\"%s hashed == %s \\n\" %(item, i))\n",
    "        if lp_hash_table[i] == None:\n",
    "            lp_hash_table[i] = item\n",
    "        elif lp_hash_table[i] != None:\n",
    "            print(\"Collision, attempting linear probe \\n\")\n",
    "            next_slot = rehash(i, table_size)\n",
    "            print(\"Setting next slot to %s \\n\" % next_slot)\n",
    "            while lp_hash_table[next_slot] != None:\n",
    "                next_slot = rehash(next_slot, len(lp_hash_table.keys()))\n",
    "                print(\"Next slot was not empty, trying next slot %s \\n\" % next_slot)\n",
    "            if lp_hash_table[next_slot] == None:\n",
    "                lp_hash_table[next_slot] = item\n",
    "    return lp_hash_table\n",
    "\n",
    "print(lp_hash(array, 10))"
   ]
  },
  {
   "cell_type": "markdown",
   "metadata": {},
   "source": [
    "# Цепочки"
   ]
  },
  {
   "cell_type": "code",
   "execution_count": 7,
   "metadata": {},
   "outputs": [
    {
     "name": "stdout",
     "output_type": "stream",
     "text": [
      "0 --> Allahabad --> Mathura \n",
      "1 --> Punjab --> Noida \n",
      "2 \n",
      "3 \n",
      "4 \n",
      "5 --> Mumbai \n",
      "6 \n",
      "7 \n",
      "8 \n",
      "9 --> Delhi \n"
     ]
    }
   ],
   "source": [
    "def display_hash(hashTable):\n",
    "      \n",
    "    for i in range(len(hashTable)):\n",
    "        print(i, end = \" \")\n",
    "          \n",
    "        for j in hashTable[i]:\n",
    "            print(\"-->\", end = \" \")\n",
    "            print(j, end = \" \")\n",
    "              \n",
    "        print()\n",
    "  \n",
    "# Creating Hashtable as \n",
    "# a nested list.\n",
    "HashTable = [[] for _ in range(10)]\n",
    "  \n",
    "# Hashing Function to return \n",
    "# key for every value.\n",
    "def Hashing(keyvalue):\n",
    "    return keyvalue % len(HashTable)\n",
    "  \n",
    "  \n",
    "# Insert Function to add\n",
    "# values to the hash table\n",
    "def insert(Hashtable, keyvalue, value):\n",
    "      \n",
    "    hash_key = Hashing(keyvalue)\n",
    "    Hashtable[hash_key].append(value)\n",
    "  \n",
    "# Driver Code\n",
    "insert(HashTable, 10, 'Allahabad')\n",
    "insert(HashTable, 25, 'Mumbai')\n",
    "insert(HashTable, 20, 'Mathura')\n",
    "insert(HashTable, 9, 'Delhi')\n",
    "insert(HashTable, 21, 'Punjab')\n",
    "insert(HashTable, 21, 'Noida')\n",
    "  \n",
    "display_hash (HashTable)"
   ]
  },
  {
   "cell_type": "markdown",
   "metadata": {},
   "source": [
    "# Задание 3"
   ]
  },
  {
   "cell_type": "code",
   "execution_count": 8,
   "metadata": {},
   "outputs": [
    {
     "name": "stdout",
     "output_type": "stream",
     "text": [
      "Решение существует :\n",
      "1 0 0 0 0 0 0 0 \n",
      "0 0 0 0 0 0 1 0 \n",
      "0 0 0 0 1 0 0 0 \n",
      "0 0 0 0 0 0 0 1 \n",
      "0 1 0 0 0 0 0 0 \n",
      "0 0 0 1 0 0 0 0 \n",
      "0 0 0 0 0 1 0 0 \n",
      "0 0 1 0 0 0 0 0 \n"
     ]
    }
   ],
   "source": [
    "\n",
    "import random\n",
    "def generator(m = 8, n = 8, min_limit = 0, max_limit = 0):\n",
    "    matrix = []\n",
    "    for i in range(m):\n",
    "        matrix.append([0])\n",
    "        for j in range(n):\n",
    "            matrix[i].append(0)\n",
    "    return matrix\n",
    "\n",
    "\n",
    "N = 8\n",
    "ld = [0] * 30 #ld - это массив, индексы которого указывают row-col + N-1\n",
    "#(N-1) для смещения разницы для сохранения отрицательной\n",
    "#индексы\n",
    "rd = [0] * 30 #rd - это массив, индексы которого указывают строку + столбец\n",
    "#и используется, чтобы проверить, можно ли поставить ферзя на\n",
    "#правая диагональ или нет\n",
    "cl = [0] * 30 # массив столбцов, где его индексы указывают столбец и\n",
    "#используется для проверки, можно ли поместить ферзя в этот\n",
    "#строка или нет\n",
    "matrix_ = generator()\n",
    "\n",
    "def printSolution(matrix_):# вывод нашей доски ферзей \n",
    "    for i in range(N):\n",
    "        for j in range(N):\n",
    "            print(matrix_[i][j], end = \" \")\n",
    "        print() \n",
    "  \n",
    "    \n",
    "def solveNQUtil(matrix_, col): # Рекурсивная функция полезности для решения N\n",
    "      \n",
    "    \n",
    "    if (col >= N):#базовый случай: если все ферзи размещены\n",
    "        return True\n",
    "          \n",
    "    #Рассмотрите этот столбец и попробуйте разместить\n",
    "    #эта королева во всех рядах один за другим\n",
    "    for i in range(N):\n",
    "       \n",
    "        if ((ld[i - col + N - 1] != 1 and #Проверить, можно ли разместить ферзя на доске [i] [col]\n",
    "        #Проверка, можно ли поставить ферзя на [ряд] [столбец].\n",
    "        #Нам просто нужно проверить ld [row-col + n-1] и rd [row + coln]\n",
    "        #где ld и rd для левой и правой диагоналей соответственно\n",
    "             rd[i + col] != 1) and cl[i] != 1):\n",
    "            \n",
    "            matrix_[i][col] = 1 #Поместите ферзя на доску [i] [col]\n",
    "            ld[i - col + N - 1] = rd[i + col] = cl[i] = 1\n",
    "            \n",
    "            if (solveNQUtil(matrix_, col + 1)):#вернуться, чтобы разместить остальных королев\n",
    "                return True\n",
    "            \n",
    "            #При размещении ферзя на доске [i] [col]\n",
    "            #не приводит к решению,\n",
    "            #затем удалите ферзя с доски [i] [col]\n",
    "            matrix_[i][col] = 0 # BACKTRACK \n",
    "            ld[i - col + N - 1] = rd[i + col] = cl[i] = 0\n",
    "            #Если ферзь не может быть помещен в\n",
    "            #любая строка в этом столбце col, затем вернуть False\n",
    "            \n",
    "    return False\n",
    "#его функция решает проблему N королевы, используя\n",
    "#Возврат. В основном он использует resolveNQUtil () для\n",
    "#решать проблему. Возвращает False, если королевы\n",
    "#не может быть размещен, иначе верните True и\n",
    "#печатает размещение ферзей в виде единиц.\n",
    "#Обратите внимание, что может быть более одного\n",
    "#решений, эта функция печатает одно из\n",
    "#возможные решения.\n",
    "def solveNQ():\n",
    "    matrix_ = generator()\n",
    "    if (solveNQUtil(matrix_, 0) == False):\n",
    "        print(\"Решение не существует\")\n",
    "        #return False\n",
    "    print(\"Решение существует :\")\n",
    "    printSolution(matrix_)\n",
    "    #return True\n",
    "solveNQ() \n"
   ]
  }
 ],
 "metadata": {
  "kernelspec": {
   "display_name": "Python 3",
   "language": "python",
   "name": "python3"
  },
  "language_info": {
   "codemirror_mode": {
    "name": "ipython",
    "version": 3
   },
   "file_extension": ".py",
   "mimetype": "text/x-python",
   "name": "python",
   "nbconvert_exporter": "python",
   "pygments_lexer": "ipython3",
   "version": "3.8.5"
  }
 },
 "nbformat": 4,
 "nbformat_minor": 4
}
