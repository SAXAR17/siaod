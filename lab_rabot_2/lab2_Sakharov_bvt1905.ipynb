{
 "cells": [
  {
   "cell_type": "markdown",
   "metadata": {},
   "source": [
    "# Задание 1\n",
    "# Бинарный поиск"
   ]
  },
  {
   "cell_type": "code",
   "execution_count": 1,
   "metadata": {},
   "outputs": [
    {
     "name": "stdout",
     "output_type": "stream",
     "text": [
      "Индекс элемента  6\n"
     ]
    }
   ],
   "source": [
    "import random\n",
    "import time\n",
    "array = [1, 2, 3, 4, 5, 6, 7, 8, 9, 10]\n",
    "x = 7\n",
    "start = time.time()\n",
    "def binarySearch (array, l, r, x):\n",
    "    if r >= l:  \n",
    "        mid = l + (r - l) // 2\n",
    "        if array[mid] == x:\n",
    "            return mid\n",
    "        elif array[mid] > x:\n",
    "            return binarySearch(array, l, mid-1, x)\n",
    "        else:\n",
    "            return binarySearch(array, mid + 1, r, x)  \n",
    "    else:\n",
    "        return -1\n",
    "result = binarySearch(array, 0, len(array)-1, x)  \n",
    "if result != -1:\n",
    "    print (\"Индекс элемента % d\" % result)\n",
    "else:\n",
    "    print (\"Нету такого элемента\")\n",
    "start = time.time()\n",
    "binarySearch(array, 0, len(array)-1, x)\n",
    "time_binar = (time.time() - start)*1000"
   ]
  },
  {
   "cell_type": "markdown",
   "metadata": {},
   "source": [
    "# Бинарное дерево"
   ]
  },
  {
   "cell_type": "code",
   "execution_count": 2,
   "metadata": {},
   "outputs": [],
   "source": [
    "class Node:\n",
    "    def __init__(self, val):\n",
    "        self.l = None\n",
    "        self.r = None\n",
    "        self.v = val\n",
    "\n",
    "class Tree:\n",
    "    def __init__(self):\n",
    "        self.root = None\n",
    "\n",
    "    def getRoot(self):\n",
    "        return self.root\n",
    "\n",
    "    def add(self, val):\n",
    "        if self.root is None:\n",
    "            self.root = Node(val)\n",
    "        else:\n",
    "            self._add(val, self.root)\n",
    "\n",
    "    def _add(self, val, node):\n",
    "        if val < node.v:\n",
    "            if node.l is not None:\n",
    "                self._add(val, node.l)\n",
    "            else:\n",
    "                node.l = Node(val)\n",
    "        else:\n",
    "            if node.r is not None:\n",
    "                self._add(val, node.r)\n",
    "            else:\n",
    "                node.r = Node(val)\n",
    "\n",
    "    def find(self, val):\n",
    "        if self.root is not None:\n",
    "            return self._find(val, self.root)\n",
    "        else:\n",
    "            return None\n",
    "\n",
    "    def _find(self, val, node):\n",
    "        if val == node.v:\n",
    "            return node\n",
    "        elif (val < node.v and node.l is not None):\n",
    "            return self._find(val, node.l)\n",
    "        elif (val > node.v and node.r is not None):\n",
    "            return self._find(val, node.r)\n",
    "\n",
    "    def deleteTree(self):\n",
    "        self.root = None\n",
    "            \n",
    "    def delete_value(self, val):\n",
    "        return self.delete_node(self.find(val))\n",
    "\n",
    "    def delete_node(self, node):\n",
    "        if node == None or self.find(node.val) == None:\n",
    "            print(\"Не найдено в дереве\")\n",
    "            return None\n",
    "\n",
    "start = time.time()\n",
    "found = Tree()\n",
    "for i in array:\n",
    "    Tree.add(i)\n",
    "time_tree =(time.time() - start)*1000\n",
    "Tree.find(6)\n",
    "time_find_tree =(time.time() - start)*1000"
   ]
  },
  {
   "cell_type": "markdown",
   "metadata": {},
   "source": [
    "# Фибоначчи"
   ]
  },
  {
   "cell_type": "code",
   "execution_count": 3,
   "metadata": {},
   "outputs": [],
   "source": [
    "start = time.time()\n",
    "def fibonacci_search(array, number):\n",
    "    position = 0\n",
    "    left = 0\n",
    "    right = 1\n",
    "    while array[left] != number:\n",
    "        left = 0\n",
    "        right = 1\n",
    "        while array[right - 1] < number:\n",
    "            left,right = right, left\n",
    "            right += left\n",
    "            if right > len(array):\n",
    "                right = len(array)\n",
    "        array = array[left:right]\n",
    "        position += left\n",
    "        right = len(array)\n",
    "        left = 0\n",
    "        if len(array) == 1 and array[0] != number:\n",
    "            return None\n",
    "    return position\n",
    "fibonacci_search(array, x)\n",
    "time_fibonacci_search = (time.time() - start)*1000"
   ]
  },
  {
   "cell_type": "markdown",
   "metadata": {},
   "source": [
    "# Интерполяционный поиск"
   ]
  },
  {
   "cell_type": "code",
   "execution_count": 4,
   "metadata": {},
   "outputs": [],
   "source": [
    "start = time.time()\n",
    "def InterpolationSearch(lys, val):\n",
    "    low = 0\n",
    "    high = (len(lys) - 1)\n",
    "    while low <= high and val >= lys[low] and val <= lys[high]:\n",
    "        index = low + int(((float(high - low) / ( lys[high] - lys[low])) * ( val - lys[low])))\n",
    "        if lys[index] == val:\n",
    "            return index\n",
    "        if lys[index] < val:\n",
    "            low = index + 1;\n",
    "        else:\n",
    "            high = index - 1;\n",
    "    return \"отсутсвует\"\n",
    "result = InterpolationSearch(array, x)\n",
    "time_InterpolationSearch = (time.time() - start)*1000"
   ]
  },
  {
   "cell_type": "markdown",
   "metadata": {},
   "source": [
    "# Задание 2"
   ]
  },
  {
   "cell_type": "code",
   "execution_count": 5,
   "metadata": {},
   "outputs": [],
   "source": [
    "def hash(array, size):\n",
    "    sum = 0\n",
    "    for number in range(len(array)):\n",
    "        sum = sum + ord(array[number])\n",
    "\n",
    "    return sum % size"
   ]
  },
  {
   "cell_type": "markdown",
   "metadata": {},
   "source": [
    "# Рехеширование"
   ]
  },
  {
   "cell_type": "code",
   "execution_count": 8,
   "metadata": {},
   "outputs": [],
   "source": [
    "start = time.time()\n",
    "def prost_rehash(pos, i, size):\n",
    "    return (pos + i) % size\n",
    "data = [\"Машина\", \"Дыня\", \"Арбуз\", \"Каток\", \"Планшет\"]\n",
    "array = [None] *len(data)\n",
    "size = len(data)\n",
    "for j in range(len(data)):\n",
    "    i = 0\n",
    "    if array[hash(data[j],size)] == None:\n",
    "        array[hash(data[j], size)] = data[j]\n",
    "    else:\n",
    "        while array[hash(data[j], size) + i % size] != None:\n",
    "            i += 1\n",
    "        array[hash(data[j], size) + i % size] = data[j]\n",
    "time_prost_rehash = (time.time() - start)*1000"
   ]
  },
  {
   "cell_type": "markdown",
   "metadata": {},
   "source": [
    "# Рандом"
   ]
  },
  {
   "cell_type": "code",
   "execution_count": 9,
   "metadata": {},
   "outputs": [],
   "source": [
    "start = time.time()\n",
    "def rand_rehash(pos, i, size):\n",
    "    return (pos + i) % size\n",
    "array = [None] *len(data)\n",
    "size = len(data)\n",
    "for j in range(len(data)):\n",
    "    i = 0\n",
    "    if array[hash(data[j],size)] == None:\n",
    "        array[hash(data[j], size)] = data[j]\n",
    "    else:\n",
    "        while array[hash(data[j], size) + i % size] != None:\n",
    "            i = random.randint(1, size - 1)\n",
    "            array[i] = data[j]\n",
    "time_rand_rehash = (time.time() - start)*1000"
   ]
  },
  {
   "cell_type": "markdown",
   "metadata": {},
   "source": [
    "# Цепочками"
   ]
  },
  {
   "cell_type": "code",
   "execution_count": 11,
   "metadata": {},
   "outputs": [],
   "source": [
    "start = time.time()\n",
    "array = [None] * len(array)\n",
    "\n",
    "for i in range(len(data)):\n",
    "\n",
    "    if array[hash(data[i], len(data))] == None:\n",
    "        array[hash(data[i], len(data))] = data[i]\n",
    "    elif array[hash(data[i], len(data))] != None:\n",
    "        chain = array[hash(data[i], len(data))]\n",
    "        if type(chain) != \"list\":\n",
    "            array[hash(data[i], len(data))] = []\n",
    "            if type(chain) is list:\n",
    "                for j in range(len(chain)):\n",
    "                    array[hash(data[i], len(data))].append(chain[j])\n",
    "            else:\n",
    "                array[hash(data[i], len(data))].append(chain)\n",
    "        array[hash(data[i], len(data))].append(array[i])\n",
    "\n",
    "time_chain_rehash = (time.time() - start)*1000"
   ]
  },
  {
   "cell_type": "markdown",
   "metadata": {},
   "source": [
    "# Задание 3"
   ]
  },
  {
   "cell_type": "code",
   "execution_count": 12,
   "metadata": {},
   "outputs": [
    {
     "name": "stdout",
     "output_type": "stream",
     "text": [
      "Решение существует :\n",
      "1 0 0 0 0 0 0 0 \n",
      "0 0 0 0 0 0 1 0 \n",
      "0 0 0 0 1 0 0 0 \n",
      "0 0 0 0 0 0 0 1 \n",
      "0 1 0 0 0 0 0 0 \n",
      "0 0 0 1 0 0 0 0 \n",
      "0 0 0 0 0 1 0 0 \n",
      "0 0 1 0 0 0 0 0 \n"
     ]
    }
   ],
   "source": [
    "\n",
    "import random\n",
    "def generator(m = 8, n = 8, min_limit = 0, max_limit = 0):\n",
    "    matrix = []\n",
    "    for i in range(m):\n",
    "        matrix.append([0])\n",
    "        for j in range(n):\n",
    "            matrix[i].append(0)\n",
    "    return matrix\n",
    "\n",
    "\n",
    "N = 8\n",
    "ld = [0] * 30 #ld - это массив, индексы которого указывают row-col + N-1\n",
    "#(N-1) для смещения разницы для сохранения отрицательной\n",
    "#индексы\n",
    "rd = [0] * 30 #rd - это массив, индексы которого указывают строку + столбец\n",
    "#и используется, чтобы проверить, можно ли поставить ферзя на\n",
    "#правая диагональ или нет\n",
    "cl = [0] * 30 # массив столбцов, где его индексы указывают столбец и\n",
    "#используется для проверки, можно ли поместить ферзя в этот\n",
    "#строка или нет\n",
    "matrix_ = generator()\n",
    "\n",
    "def printSolution(matrix_):# вывод нашей доски ферзей \n",
    "    for i in range(N):\n",
    "        for j in range(N):\n",
    "            print(matrix_[i][j], end = \" \")\n",
    "        print() \n",
    "  \n",
    "    \n",
    "def solveNQUtil(matrix_, col): # Рекурсивная функция полезности для решения N\n",
    "      \n",
    "    \n",
    "    if (col >= N):#базовый случай: если все ферзи размещены\n",
    "        return True\n",
    "          \n",
    "    #Рассмотрите этот столбец и попробуйте разместить\n",
    "    #эта королева во всех рядах один за другим\n",
    "    for i in range(N):\n",
    "       \n",
    "        if ((ld[i - col + N - 1] != 1 and #Проверить, можно ли разместить ферзя на доске [i] [col]\n",
    "        #Проверка, можно ли поставить ферзя на [ряд] [столбец].\n",
    "        #Нам просто нужно проверить ld [row-col + n-1] и rd [row + coln]\n",
    "        #где ld и rd для левой и правой диагоналей соответственно\n",
    "             rd[i + col] != 1) and cl[i] != 1):\n",
    "            \n",
    "            matrix_[i][col] = 1 #Поместите ферзя на доску [i] [col]\n",
    "            ld[i - col + N - 1] = rd[i + col] = cl[i] = 1\n",
    "            \n",
    "            if (solveNQUtil(matrix_, col + 1)):#вернуться, чтобы разместить остальных королев\n",
    "                return True\n",
    "            \n",
    "            #При размещении ферзя на доске [i] [col]\n",
    "            #не приводит к решению,\n",
    "            #затем удалите ферзя с доски [i] [col]\n",
    "            matrix_[i][col] = 0 # BACKTRACK \n",
    "            ld[i - col + N - 1] = rd[i + col] = cl[i] = 0\n",
    "            #Если ферзь не может быть помещен в\n",
    "            #любая строка в этом столбце col, затем вернуть False\n",
    "            \n",
    "    return False\n",
    "#его функция решает проблему N королевы, используя\n",
    "#Возврат. В основном он использует resolveNQUtil () для\n",
    "#решать проблему. Возвращает False, если королевы\n",
    "#не может быть размещен, иначе верните True и\n",
    "#печатает размещение ферзей в виде единиц.\n",
    "#Обратите внимание, что может быть более одного\n",
    "#решений, эта функция печатает одно из\n",
    "#возможные решения.\n",
    "def solveNQ():\n",
    "    matrix_ = generator()\n",
    "    if (solveNQUtil(matrix_, 0) == False):\n",
    "        print(\"Решение не существует\")\n",
    "        #return False\n",
    "    print(\"Решение существует :\")\n",
    "    printSolution(matrix_)\n",
    "    #return True\n",
    "solveNQ() \n"
   ]
  },
  {
   "cell_type": "code",
   "execution_count": 13,
   "metadata": {},
   "outputs": [
    {
     "name": "stdout",
     "output_type": "stream",
     "text": [
      "Вывод:\n",
      "0.11301040649414062\n",
      "0.00033593177795410156\n",
      "0.19693374633789062\n",
      "0.2770423889160156\n",
      "0.8959770202636719\n",
      "0.4260540008544922\n",
      "0.27298927307128906\n"
     ]
    }
   ],
   "source": [
    "print(\"Вывод:\")\n",
    "print(time_binar)\n",
    "print(time_find_tree)\n",
    "print(time_fibonacci_search)\n",
    "print(time_InterpolationSearch)\n",
    "print(time_prost_rehash)\n",
    "print(time_rand_rehash)\n",
    "print(time_chain_rehash)"
   ]
  }
 ],
 "metadata": {
  "kernelspec": {
   "display_name": "Python 3",
   "language": "python",
   "name": "python3"
  },
  "language_info": {
   "codemirror_mode": {
    "name": "ipython",
    "version": 3
   },
   "file_extension": ".py",
   "mimetype": "text/x-python",
   "name": "python",
   "nbconvert_exporter": "python",
   "pygments_lexer": "ipython3",
   "version": "3.8.5"
  }
 },
 "nbformat": 4,
 "nbformat_minor": 4
}
