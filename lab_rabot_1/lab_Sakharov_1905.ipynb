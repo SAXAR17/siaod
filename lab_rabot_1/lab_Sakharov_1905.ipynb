{
 "cells": [
  {
   "cell_type": "markdown",
   "metadata": {},
   "source": [
    "# Лабораторная работа №1"
   ]
  },
  {
   "cell_type": "markdown",
   "metadata": {},
   "source": [
    "# Выполнил студент группы БВТ1905 Сахаров Александр Алекснадрович\n",
    "\n"
   ]
  },
  {
   "cell_type": "markdown",
   "metadata": {},
   "source": [
    "# Задание 1\n"
   ]
  },
  {
   "cell_type": "code",
   "execution_count": 1,
   "metadata": {},
   "outputs": [
    {
     "name": "stdout",
     "output_type": "stream",
     "text": [
      "Hello World!\n"
     ]
    }
   ],
   "source": [
    " print(\"Hello World!\");"
   ]
  },
  {
   "cell_type": "markdown",
   "metadata": {},
   "source": [
    "# Задание 2"
   ]
  },
  {
   "cell_type": "code",
   "execution_count": 2,
   "metadata": {},
   "outputs": [],
   "source": [
    "import random\n",
    "def generator_matrix(m = 50, n = 50, min_limit = -250, max_limit = 1000 + 17):\n",
    "    matrix = []\n",
    "    for i in range(m):\n",
    "        matrix.append([])\n",
    "        for j in range(n):\n",
    "            matrix[i].append(random.randint(min_limit, max_limit + 1))\n",
    "    return matrix"
   ]
  },
  {
   "cell_type": "markdown",
   "metadata": {},
   "source": [
    "# Задание 3"
   ]
  },
  {
   "cell_type": "code",
   "execution_count": 3,
   "metadata": {},
   "outputs": [],
   "source": [
    "import time\n",
    "saxar = generator_matrix()"
   ]
  },
  {
   "cell_type": "code",
   "execution_count": 4,
   "metadata": {},
   "outputs": [
    {
     "name": "stdout",
     "output_type": "stream",
     "text": [
      "Выбором  0.21004676818847656\n"
     ]
    }
   ],
   "source": [
    "start = time.time()\n",
    "def selection_sort(nums):\n",
    "    for i in range(len(nums)):\n",
    "        lowest_value_index = i\n",
    "    for j in range(i + 1, len(nums)):\n",
    "        if nums[j] < nums[lowest_value_index]:\n",
    "                lowest_value_index = j\n",
    "        nums[i], nums[lowest_value_index] = nums[lowest_value_index], nums[i]\n",
    "    \n",
    "    \n",
    "print(\"Выбором \", (time.time() - start)*1000)\n",
    "selection_sort(saxar)"
   ]
  },
  {
   "cell_type": "code",
   "execution_count": 5,
   "metadata": {},
   "outputs": [
    {
     "name": "stdout",
     "output_type": "stream",
     "text": [
      "Вставка  0.13685226440429688\n"
     ]
    }
   ],
   "source": [
    "start = time.time()\n",
    "def insertion_sort(nums):\n",
    "       for i in range(1, len(nums)):\n",
    "            item_to_insert = nums[i]\n",
    "            j = i - 1\n",
    "            while j >= 0 and nums[j] > item_to_insert:\n",
    "                nums[j + 1] = nums[j]\n",
    "                j -= 1\n",
    "            nums[j + 1] = item_to_insert\n",
    "print(\"Вставка \", (time.time() - start)*1000)\n",
    "insertion_sort(saxar)"
   ]
  },
  {
   "cell_type": "code",
   "execution_count": 6,
   "metadata": {},
   "outputs": [
    {
     "name": "stdout",
     "output_type": "stream",
     "text": [
      "Обмен  0.14209747314453125\n"
     ]
    }
   ],
   "source": [
    "start = time.time()\n",
    "def bubble_sort(nums):  \n",
    "        swapped = True\n",
    "        while swapped:\n",
    "            swapped = False\n",
    "            for i in range(len(nums) - 1):\n",
    "                if nums[i] > nums[i + 1]:\n",
    "                    nums[i], nums[i + 1] = nums[i + 1], nums[i]\n",
    "                    swapped = True\n",
    "print(\"Обмен \", (time.time() - start)*1000)\n",
    "bubble_sort(saxar) "
   ]
  },
  {
   "cell_type": "code",
   "execution_count": 8,
   "metadata": {},
   "outputs": [
    {
     "name": "stdout",
     "output_type": "stream",
     "text": [
      "Турнир  0.3409385681152344\n"
     ]
    }
   ],
   "source": [
    "start = time.time()\n",
    "def Binary_heap(nums, lenght, index):\n",
    "        maximum = index\n",
    "        left = 2 * index\n",
    "        right = 2 * index + 1\n",
    "        if left < lenght and nums[maximum] < nums[left]:\n",
    "            maximum = left\n",
    "        if right < lenght and nums[maximum] < nums[right]:\n",
    "            maximum = right\n",
    "        if maximum != index:\n",
    "            nums[index], nums[maximum] = nums[maximum], nums[index]\n",
    "            Binary_heap(nums, lenght, maximum)\n",
    "        return nums\n",
    "    \n",
    "    \n",
    "def tournament_sort(nums):\n",
    "        for i in range(len(nums) // 2, -1, -1):\n",
    "            Binary_heap(nums, len(nums), i)\n",
    "        for i in range(len(nums) - 1, -1, -1):\n",
    "            if nums[0] > nums[i]:\n",
    "                nums[0], nums[i] = nums[i], nums[0]\n",
    "                Binary_heap(nums, i, 0)\n",
    "print(\"Турнир \", (time.time() - start)*1000)\n",
    "tournament_sort(saxar)"
   ]
  },
  {
   "cell_type": "code",
   "execution_count": 9,
   "metadata": {},
   "outputs": [
    {
     "name": "stdout",
     "output_type": "stream",
     "text": [
      "Шелла:  0.16188621520996094\n"
     ]
    }
   ],
   "source": [
    "start = time.time()\n",
    "def shell(nums):\n",
    "        inc = len(nums) // 2 \n",
    "        while inc:\n",
    "            for i, el in enumerate(nums):\n",
    "                while i >= inc and nums[i - inc] > el:\n",
    "                    nums[i] = nums[i - inc]\n",
    "                    i -= inc\n",
    "                nums[i] = el\n",
    "            inc = 1 if inc == 2 else int(inc * 5.0 / 11)\n",
    "print(\"Шелла: \", (time.time() - start)*1000)\n",
    "shell(saxar)"
   ]
  },
  {
   "cell_type": "code",
   "execution_count": 10,
   "metadata": {},
   "outputs": [
    {
     "name": "stdout",
     "output_type": "stream",
     "text": [
      "Быстрая  0.13494491577148438\n"
     ]
    }
   ],
   "source": [
    "start = time.time()\n",
    "def QuickSort(nums):\n",
    "    if len(nums) <= 1:\n",
    "        return nums\n",
    "    else:\n",
    "        q = random.choice(nums)\n",
    "        L = []\n",
    "        M = []\n",
    "        R = []\n",
    "        for elem in nums:\n",
    "            if elem < q:\n",
    "                L.append(elem)\n",
    "            elif elem > q: \n",
    "                R.append(elem)\n",
    "            else: \n",
    "                M.append(elem)\n",
    "print(\"Быстрая \", (time.time() - start)*1000)\n",
    "QuickSort(saxar)"
   ]
  }
 ],
 "metadata": {
  "kernelspec": {
   "display_name": "Python 3",
   "language": "python",
   "name": "python3"
  },
  "language_info": {
   "codemirror_mode": {
    "name": "ipython",
    "version": 3
   },
   "file_extension": ".py",
   "mimetype": "text/x-python",
   "name": "python",
   "nbconvert_exporter": "python",
   "pygments_lexer": "ipython3",
   "version": "3.8.5"
  }
 },
 "nbformat": 4,
 "nbformat_minor": 4
}
