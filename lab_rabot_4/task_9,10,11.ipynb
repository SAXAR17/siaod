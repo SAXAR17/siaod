{
 "cells": [
  {
   "cell_type": "code",
   "execution_count": 1,
   "metadata": {},
   "outputs": [],
   "source": [
    "import re# библиотека регулярных выражений"
   ]
  },
  {
   "cell_type": "code",
   "execution_count": 2,
   "metadata": {},
   "outputs": [],
   "source": [
    "class Deque:\n",
    "    def __init__(self):\n",
    "        self.items = []\n",
    "\n",
    "    def __len__(self):\n",
    "        return len(self.items)\n",
    "\n",
    "    def is_empty(self):\n",
    "        return self.items == []\n",
    "\n",
    "    def push_front(self, item):\n",
    "        self.items.append(item)\n",
    "\n",
    "    def push_back(self, item):\n",
    "        self.items.insert(0, item)\n",
    "\n",
    "    def pop_front(self):\n",
    "        return self.items.pop()\n",
    "\n",
    "    def pop_back(self):\n",
    "        return self.items.pop(0)\n",
    "\n",
    "    def peek_first(self):\n",
    "        return self.items[0]\n",
    "\n",
    "    def peek_last(self):\n",
    "        return self.items[-1]"
   ]
  },
  {
   "cell_type": "code",
   "execution_count": 3,
   "metadata": {},
   "outputs": [],
   "source": [
    "class Stack(Deque):\n",
    "    def push(self, item):\n",
    "        super().push_front(item)\n",
    "\n",
    "    def pop(self):\n",
    "        return super().pop_front()\n",
    "\n",
    "    def peek(self):\n",
    "        return self.items[-1]"
   ]
  },
  {
   "cell_type": "code",
   "execution_count": 4,
   "metadata": {},
   "outputs": [],
   "source": [
    "def postfix(temp):\n",
    "    exp = \"\"\n",
    "    for i in temp:\n",
    "        if i == \"A\":\n",
    "            exp += \"*\"\n",
    "        elif i == \"X\":\n",
    "            exp += \"^\"\n",
    "        elif i == \"O\":\n",
    "            exp += \"+\"\n",
    "        elif i == \"N\":\n",
    "            exp += \"!\"\n",
    "        else:\n",
    "            exp += i + \"\"\n",
    "    temp = \"\"\n",
    "    stack = Stack()\n",
    "    print(exp)\n",
    "    for i in exp:\n",
    "        if i in \"TF\":\n",
    "            temp += i + \" \"\n",
    "            continue\n",
    "        if (i in \"+\") and (stack.peek() in \"*!^\"):\n",
    "            ch = stack.pop()\n",
    "            while ch != \"(\":\n",
    "                temp += ch + ' '\n",
    "                ch = stack.pop()\n",
    "            stack.push(\"(\")\n",
    "        if i == \")\":\n",
    "            ch = stack.pop()\n",
    "            while ch != \"(\":\n",
    "                temp += ch + ' '\n",
    "                ch = stack.pop()\n",
    "\n",
    "            continue\n",
    "        stack.push(i)\n",
    "    while not stack.is_empty():\n",
    "        temp += stack.pop() + \" \"\n",
    "    print(temp)\n",
    "    return temp"
   ]
  },
  {
   "cell_type": "code",
   "execution_count": 5,
   "metadata": {},
   "outputs": [
    {
     "name": "stdout",
     "output_type": "stream",
     "text": [
      "(!(T*F))\n",
      "T F * ! \n",
      "True\n"
     ]
    }
   ],
   "source": [
    "def nine_task(expr):\n",
    "    operators = {\n",
    "        '+': bool.__or__,\n",
    "        '*': bool.__and__,\n",
    "        '^': bool.__xor__,\n",
    "    }\n",
    "    expr = str(postfix(expr).strip())\n",
    "    ops = operators.keys()\n",
    "    res = Stack()\n",
    "    for atom in re.split(r\"\\s+\", expr):\n",
    "        try:\n",
    "            if atom == \"F\":\n",
    "                atom = False\n",
    "            elif atom == \"T\":\n",
    "                atom = True\n",
    "            elif atom == \"!\":\n",
    "                res.push_front(not res.pop())\n",
    "                continue\n",
    "            else:\n",
    "                raise ValueError\n",
    "            res.push_front(atom)\n",
    "        except ValueError:\n",
    "            for oper in atom:\n",
    "                if oper not in ops:\n",
    "                    continue\n",
    "                oper2 = res.pop()\n",
    "                oper1 = res.pop()\n",
    "                oper = operators[oper](oper1, oper2)\n",
    "                res.push_front(oper)\n",
    "                \n",
    "\n",
    "    return res.pop()\n",
    "with open('task9.txt', 'r') as f:\n",
    "    text = f.read()\n",
    "print(nine_task(text))"
   ]
  },
  {
   "cell_type": "code",
   "execution_count": 6,
   "metadata": {},
   "outputs": [
    {
     "name": "stdout",
     "output_type": "stream",
     "text": [
      "max(max(8,12),min(max(89,32),2))\n",
      "12\n",
      "min(max(3,9),min(min(89,1),2))\n",
      "1\n"
     ]
    }
   ],
   "source": [
    "def ten_task(expr):\n",
    "    expr = expr.replace(\"M\",\"max\") \n",
    "    expr = expr.replace(\"N\",\"min\") \n",
    "    print(expr)\n",
    "    q = eval(expr)\n",
    "    return q\n",
    "ten_task10 = open('task10.txt', 'r')\n",
    "with open('task10.txt', 'r') as f:\n",
    "    text = f.read()\n",
    "print(ten_task(text))\n",
    "print(ten_task(\"N(M(3,9),N(N(89,1),2))\"))"
   ]
  },
  {
   "cell_type": "code",
   "execution_count": 7,
   "metadata": {},
   "outputs": [],
   "source": [
    "def temp11(exp):\n",
    "    temp = \"\"\n",
    "    stack = Stack()\n",
    "    for i in exp:\n",
    "        if i in \"xyz\":\n",
    "            temp += i + \" \"\n",
    "            continue\n",
    "        if i == \")\":\n",
    "            ch = stack.pop()\n",
    "            while ch != \"(\":\n",
    "                temp += ch + ' '\n",
    "                ch = stack.pop()\n",
    "            continue\n",
    "        stack.push(i)\n",
    "    while not stack.is_empty():\n",
    "        temp += stack.pop() + \" \"\n",
    "    print(temp)\n",
    "    return temp\n"
   ]
  },
  {
   "cell_type": "code",
   "execution_count": 8,
   "metadata": {},
   "outputs": [
    {
     "name": "stdout",
     "output_type": "stream",
     "text": [
      "x y z + + \n",
      "True\n"
     ]
    }
   ],
   "source": [
    "def el_task(expr):\n",
    "    expr = str(temp11(expr).strip())\n",
    "    operator = {'+': int.__add__}\n",
    "    ops = operator.keys()\n",
    "    res = Stack()\n",
    "    lst = list(expr)\n",
    "    for atom in re.split(r\"\\s+\", expr):\n",
    "        try:\n",
    "            assert atom in \"xyz+ \"\n",
    "            if atom in \"xyz\":\n",
    "                atom = 1\n",
    "            else:\n",
    "                raise ValueError\n",
    "            res.push_front(atom)\n",
    "        except ValueError:\n",
    "            for oper in atom:\n",
    "                if oper not in ops:\n",
    "                    return False\n",
    "                oper2 = res.pop()\n",
    "                oper1 = res.pop()\n",
    "                oper = operator[oper](oper1, oper2)\n",
    "                res.push_front(oper)\n",
    "        except AssertionError:\n",
    "            return False\n",
    "\n",
    "    return res.pop() and True\n",
    "with open('task11.txt', 'r') as f:\n",
    "    text = f.read()\n",
    "print(el_task(text))"
   ]
  }
 ],
 "metadata": {
  "kernelspec": {
   "display_name": "Python 3",
   "language": "python",
   "name": "python3"
  },
  "language_info": {
   "codemirror_mode": {
    "name": "ipython",
    "version": 3
   },
   "file_extension": ".py",
   "mimetype": "text/x-python",
   "name": "python",
   "nbconvert_exporter": "python",
   "pygments_lexer": "ipython3",
   "version": "3.8.5"
  }
 },
 "nbformat": 4,
 "nbformat_minor": 4
}
