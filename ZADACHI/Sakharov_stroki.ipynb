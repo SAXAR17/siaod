{
 "cells": [
  {
   "cell_type": "code",
   "execution_count": 1,
   "metadata": {},
   "outputs": [
    {
     "name": "stdout",
     "output_type": "stream",
     "text": [
      "True\n"
     ]
    }
   ],
   "source": [
    "string1 = 'abc'\n",
    "string2 = 'xya'\n",
    "\n",
    "def max_symbol(sym, i):\n",
    "    max = \" \"\n",
    "    for char in i:\n",
    "        if char <= sym and char > max:\n",
    "            max = char\n",
    "    return max\n",
    "\n",
    "def str_win(s1, s2):\n",
    "    string1 = list(s1)    \n",
    "    string2 = list(s2)\n",
    "    \n",
    "    for i in range(len(string1)):\n",
    "        if max_symbol(string1[i], string2) != \" \":\n",
    "            string2.remove(max_symbol(string1[i], string2))\n",
    "        else:\n",
    "            return False\n",
    "    return True\n",
    "\n",
    "if (str_win(string1, string2)):\n",
    "    print(str_win(string1, string2))\n",
    "else:\n",
    "    print(str_win(string2, string1))"
   ]
  },
  {
   "cell_type": "code",
   "execution_count": 2,
   "metadata": {},
   "outputs": [
    {
     "name": "stdout",
     "output_type": "stream",
     "text": [
      "Самый длинный полиндром в строке: \n",
      "greeksskeerg\n",
      "Длина данного палиндрома:  12\n"
     ]
    }
   ],
   "source": [
    "str = \"yrygtygreeksskeerguyuyu\"\n",
    "def printSubStr(str, low, high):   \n",
    "    for i in range(low, high + 1):\n",
    "        print(str[i], end = \"\")\n",
    "\n",
    "def longestPalSubstr(str):\n",
    "    n = len(str)\n",
    "    maxLength = 1\n",
    "    start = 0\n",
    "    for i in range(n):\n",
    "        for j in range(i, n):\n",
    "            flag = 1\n",
    "            for k in range(0, ((j - i) // 2) + 1):\n",
    "                if (str[i + k] != str[j - k]):\n",
    "                    flag = 0\n",
    "            if (flag != 0 and (j - i + 1) > maxLength):\n",
    "                start = i\n",
    "                maxLength = j - i + 1                 \n",
    "    print(\"Самый длинный полиндром в строке: \")\n",
    "    printSubStr(str, start, start + maxLength - 1)\n",
    "    return maxLength\n",
    " \n",
    "if __name__ == '__main__':\n",
    "    print(\"\\nДлина данного палиндрома: \", longestPalSubstr(str))"
   ]
  },
  {
   "cell_type": "code",
   "execution_count": 5,
   "metadata": {},
   "outputs": [
    {
     "name": "stdout",
     "output_type": "stream",
     "text": [
      "3\n"
     ]
    }
   ],
   "source": [
    "def concatenation(s):\n",
    "    L = len(s)\n",
    "    k = 0\n",
    "    parts = []\n",
    "    for i in range(2, L, 2):\n",
    "        for j in range(L - i + 1):    \n",
    "            word = s[j:j + i]\n",
    "            part1 = word[:i // 2]\n",
    "            part2 = word[i // 2:]\n",
    "            if part1 == part2 and not part1 in parts:\n",
    "                parts.append(part1)\n",
    "                k += 1 \n",
    "    return k\n",
    "\n",
    "\n",
    "str = \"abcabcabc\"\n",
    "print(concatenation(str))"
   ]
  },
  {
   "cell_type": "code",
   "execution_count": null,
   "metadata": {},
   "outputs": [],
   "source": []
  }
 ],
 "metadata": {
  "kernelspec": {
   "display_name": "Python 3",
   "language": "python",
   "name": "python3"
  },
  "language_info": {
   "codemirror_mode": {
    "name": "ipython",
    "version": 3
   },
   "file_extension": ".py",
   "mimetype": "text/x-python",
   "name": "python",
   "nbconvert_exporter": "python",
   "pygments_lexer": "ipython3",
   "version": "3.8.5"
  }
 },
 "nbformat": 4,
 "nbformat_minor": 4
}
